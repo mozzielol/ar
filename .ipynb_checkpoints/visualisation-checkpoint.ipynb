{
 "cells": [
  {
   "cell_type": "code",
   "execution_count": 1,
   "metadata": {},
   "outputs": [],
   "source": [
    "%load_ext autoreload\n",
    "%autoreload 2"
   ]
  },
  {
   "cell_type": "code",
   "execution_count": null,
   "metadata": {},
   "outputs": [],
   "source": [
    "import torch\n",
    "from configuration import conf\n",
    "from utils.data_loader import load_mnist\n",
    "from models.base import Linear_base_model, Convolutional_base_model\n",
    "from utils.visualise import *\n",
    "\n",
    "trainloader, testloader = load_mnist()\n",
    "\n",
    "if conf.model_type == 'CNN':\n",
    "    model = Convolutional_base_model()\n",
    "elif conf.model_type == 'NN':\n",
    "    model = Linear_base_model()\n",
    "\n",
    "\n",
    "\n",
    "\n",
    "model.load_state_dict(torch.load('./ckp/NN/mnist_DE_97.33000000000001.pt'))\n",
    "\n"
   ]
  }
 ],
 "metadata": {
  "kernelspec": {
   "display_name": "Python 3",
   "language": "python",
   "name": "python3"
  },
  "language_info": {
   "codemirror_mode": {
    "name": "ipython",
    "version": 3
   },
   "file_extension": ".py",
   "mimetype": "text/x-python",
   "name": "python",
   "nbconvert_exporter": "python",
   "pygments_lexer": "ipython3",
   "version": "3.6.2"
  }
 },
 "nbformat": 4,
 "nbformat_minor": 4
}
