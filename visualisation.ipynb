{
 "cells": [
  {
   "cell_type": "code",
   "execution_count": 1,
   "metadata": {},
   "outputs": [],
   "source": [
    "%load_ext autoreload\n",
    "%autoreload 2"
   ]
  },
  {
   "cell_type": "code",
   "execution_count": 2,
   "metadata": {},
   "outputs": [
    {
     "data": {
      "text/plain": [
       "<All keys matched successfully>"
      ]
     },
     "execution_count": 2,
     "metadata": {},
     "output_type": "execute_result"
    }
   ],
   "source": [
    "import torch\n",
    "from configuration import conf\n",
    "from utils.data_loader import load_mnist\n",
    "from models.base import Linear_base_model, Convolutional_base_model\n",
    "from utils.visualise import *\n",
    "import numpy as np\n",
    "import matplotlib.pyplot as plt\n",
    "import seaborn as sns; sns.set()\n",
    "import pandas as pd\n",
    "\n",
    "trainloader, testloader = load_mnist()\n",
    "\n",
    "NUM_DISTR = '5'\n",
    "LAYER_TYPE = 'DY'\n",
    "conf.num_distr = NUM_DISTR\n",
    "conf.layer_type = LAYER_TYPE\n",
    "\n",
    "if conf.model_type == 'CNN':\n",
    "    model = Convolutional_base_model()\n",
    "elif conf.model_type == 'NN':\n",
    "    model = Linear_base_model()\n",
    "\n",
    "\n",
    "\n",
    "\n",
    "model.load_state_dict(torch.load('./ckp/num_distr={}/NN/mnist_{}.pt'.format(NUM_DISTR, LAYER_TYPE)))\n",
    "\n"
   ]
  },
  {
   "cell_type": "code",
   "execution_count": 3,
   "metadata": {},
   "outputs": [],
   "source": [
    "indices, classes = model.get_distr_index(testloader)"
   ]
  },
  {
   "cell_type": "code",
   "execution_count": 4,
   "metadata": {},
   "outputs": [
    {
     "data": {
      "image/png": "[encoded data removed]",
      "text/plain": [
       "<Figure size 432x288 with 10 Axes>"
      ]
     },
     "metadata": {},
     "output_type": "display_data"
    }
   ],
   "source": [
    "f, axes = plt.subplots(2, 5)\n",
    "for cls in np.arange(10):\n",
    "    x = indices[classes==cls]\n",
    "    x = np.stack([x,np.ones(x.shape[0])*cls],1)\n",
    "    df = pd.DataFrame(data=x, columns=['data','label'])\n",
    "    idx_y = cls if cls < 5 else cls-5\n",
    "    idx_x = 0 if cls < 5 else 1\n",
    "    sns.countplot(x='data',data=df, ax=axes[idx_x,idx_y])"
   ]
  },
  {
   "cell_type": "code",
   "execution_count": 5,
   "metadata": {},
   "outputs": [
    {
     "name": "stdout",
     "output_type": "stream",
     "text": [
      "Class 0\n",
      "4.0 0.0\n",
      "(array([4]), array([980]))\n",
      "----------------------------------------------------------------------------------------------------\n",
      "Class 1\n",
      "4.0 0.0\n",
      "(array([4]), array([1135]))\n",
      "----------------------------------------------------------------------------------------------------\n",
      "Class 2\n",
      "4.0 0.0\n",
      "(array([4]), array([1032]))\n",
      "----------------------------------------------------------------------------------------------------\n",
      "Class 3\n",
      "4.0 0.0\n",
      "(array([4]), array([1010]))\n",
      "----------------------------------------------------------------------------------------------------\n",
      "Class 4\n",
      "4.0 0.0\n",
      "(array([4]), array([982]))\n",
      "----------------------------------------------------------------------------------------------------\n",
      "Class 5\n",
      "4.0 0.0\n",
      "(array([4]), array([892]))\n",
      "----------------------------------------------------------------------------------------------------\n",
      "Class 6\n",
      "4.0 0.0\n",
      "(array([4]), array([958]))\n",
      "----------------------------------------------------------------------------------------------------\n",
      "Class 7\n",
      "4.0 0.0\n",
      "(array([4]), array([1028]))\n",
      "----------------------------------------------------------------------------------------------------\n",
      "Class 8\n",
      "4.0 0.0\n",
      "(array([4]), array([974]))\n",
      "----------------------------------------------------------------------------------------------------\n",
      "Class 9\n",
      "4.0 0.0\n",
      "(array([4]), array([1009]))\n",
      "----------------------------------------------------------------------------------------------------\n"
     ]
    }
   ],
   "source": [
    "for cls in np.arange(10):\n",
    "    x = indices[classes==cls]\n",
    "    print('Class %d'%cls)\n",
    "    print(np.mean(x), np.std(x))\n",
    "    print(np.unique(x,return_counts=True))\n",
    "    print('--'*50)"
   ]
  },
  {
   "cell_type": "code",
   "execution_count": null,
   "metadata": {},
   "outputs": [],
   "source": []
  },
  {
   "cell_type": "code",
   "execution_count": 14,
   "metadata": {},
   "outputs": [],
   "source": [
    "means = []\n",
    "stds = []\n",
    "with torch.no_grad():\n",
    "    for i in model.last_layer.centers[0]:\n",
    "        means.append(i[0].detach().numpy())\n",
    "        stds.append(i[1].detach().numpy())"
   ]
  },
  {
   "cell_type": "code",
   "execution_count": 20,
   "metadata": {},
   "outputs": [
    {
     "data": {
      "image/png": "[encoded data removed]",
      "text/plain": [
       "<Figure size 432x288 with 1 Axes>"
      ]
     },
     "metadata": {},
     "output_type": "display_data"
    }
   ],
   "source": [
    "visualise_distr(means[0:3])"
   ]
  },
  {
   "cell_type": "code",
   "execution_count": 37,
   "metadata": {},
   "outputs": [
    {
     "name": "stdout",
     "output_type": "stream",
     "text": [
      "0\n",
      "0\n",
      "0\n",
      "0\n",
      "0\n",
      "0\n",
      "0\n",
      "0\n",
      "0\n",
      "0\n"
     ]
    }
   ],
   "source": [
    "from scipy.stats import ks_2samp\n",
    "indices = [[0,1],[0,2],[0,3],[0,4],[1,2],[1,3],[1,4],[2,3],[2,4],[3,4]]\n",
    "diff = []\n",
    "for distr_idx in indices:\n",
    "    for idx in range(len(means[0])):\n",
    "        d1 = np.random.normal(means[distr_idx[0]][idx],np.log(1+np.exp(stds[distr_idx[0]][idx])),1000)\n",
    "        d2 = np.random.normal(means[distr_idx[1]][idx],np.log(1+np.exp(stds[distr_idx[1]][idx])),1000)\n",
    "        diff.append(ks_2samp(d1,d2)[1])\n",
    "    print(np.sum(np.array(diff)>0.95))"
   ]
  },
  {
   "cell_type": "code",
   "execution_count": 27,
   "metadata": {},
   "outputs": [
    {
     "data": {
      "text/plain": [
       "Ks_2sampResult(statistic=0.15700000000000003, pvalue=2.993392997894349e-11)"
      ]
     },
     "execution_count": 27,
     "metadata": {},
     "output_type": "execute_result"
    }
   ],
   "source": []
  },
  {
   "cell_type": "code",
   "execution_count": 13,
   "metadata": {},
   "outputs": [
    {
     "name": "stdout",
     "output_type": "stream",
     "text": [
      "2\n"
     ]
    }
   ],
   "source": [
    "model = Linear_base_model()\n",
    "model.load_state_dict(torch.load('./ckp/NN/mnist_DE_93.06.pt'))\n",
    "print(model.last_layer.num_distr)"
   ]
  },
  {
   "cell_type": "code",
   "execution_count": 14,
   "metadata": {},
   "outputs": [],
   "source": [
    "params = []\n",
    "with torch.no_grad():\n",
    "    for i in model.last_layer.parameters():\n",
    "        params.append(i.detach().numpy())"
   ]
  },
  {
   "cell_type": "code",
   "execution_count": 15,
   "metadata": {},
   "outputs": [
    {
     "data": {
      "image/png": "[encoded data removed]",
      "text/plain": [
       "<Figure size 432x288 with 1 Axes>"
      ]
     },
     "metadata": {},
     "output_type": "display_data"
    }
   ],
   "source": [
    "visulise_scatter(params[:2])"
   ]
  },
  {
   "cell_type": "code",
   "execution_count": 16,
   "metadata": {},
   "outputs": [
    {
     "data": {
      "text/plain": [
       "0.9646317"
      ]
     },
     "execution_count": 16,
     "metadata": {},
     "output_type": "execute_result"
    }
   ],
   "source": [
    "np.mean(np.abs(params[0] - params[1]))"
   ]
  },
  {
   "cell_type": "code",
   "execution_count": null,
   "metadata": {},
   "outputs": [],
   "source": []
  }
 ],
 "metadata": {
  "kernelspec": {
   "display_name": "Python 3",
   "language": "python",
   "name": "python3"
  },
  "language_info": {
   "codemirror_mode": {
    "name": "ipython",
    "version": 3
   },
   "file_extension": ".py",
   "mimetype": "text/x-python",
   "name": "python",
   "nbconvert_exporter": "python",
   "pygments_lexer": "ipython3",
   "version": "3.6.2"
  }
 },
 "nbformat": 4,
 "nbformat_minor": 4
}
